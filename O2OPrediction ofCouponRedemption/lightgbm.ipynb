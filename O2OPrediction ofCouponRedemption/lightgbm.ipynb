{
 "cells": [
  {
   "cell_type": "code",
   "execution_count": 6,
   "metadata": {},
   "outputs": [
    {
     "name": "stdout",
     "output_type": "stream",
     "text": [
      "[1]\tvalid_0's auc: 0.779181\tvalid_0's l2: 0.106395\n",
      "Training until validation scores don't improve for 5 rounds.\n",
      "[2]\tvalid_0's auc: 0.799283\tvalid_0's l2: 0.104368\n",
      "[3]\tvalid_0's auc: 0.802746\tvalid_0's l2: 0.102538\n",
      "[4]\tvalid_0's auc: 0.80569\tvalid_0's l2: 0.10083\n",
      "[5]\tvalid_0's auc: 0.805209\tvalid_0's l2: 0.0992853\n",
      "[6]\tvalid_0's auc: 0.805314\tvalid_0's l2: 0.0978957\n",
      "[7]\tvalid_0's auc: 0.805197\tvalid_0's l2: 0.0966164\n",
      "[8]\tvalid_0's auc: 0.805839\tvalid_0's l2: 0.0954425\n",
      "[9]\tvalid_0's auc: 0.808516\tvalid_0's l2: 0.0943834\n",
      "[10]\tvalid_0's auc: 0.809638\tvalid_0's l2: 0.0933806\n",
      "[11]\tvalid_0's auc: 0.810288\tvalid_0's l2: 0.0924809\n",
      "[12]\tvalid_0's auc: 0.810664\tvalid_0's l2: 0.0916426\n",
      "[13]\tvalid_0's auc: 0.811909\tvalid_0's l2: 0.0908852\n",
      "[14]\tvalid_0's auc: 0.812096\tvalid_0's l2: 0.0901948\n",
      "[15]\tvalid_0's auc: 0.812123\tvalid_0's l2: 0.0895597\n",
      "[16]\tvalid_0's auc: 0.813663\tvalid_0's l2: 0.0889735\n",
      "[17]\tvalid_0's auc: 0.814443\tvalid_0's l2: 0.0884361\n",
      "[18]\tvalid_0's auc: 0.8149\tvalid_0's l2: 0.0879045\n",
      "[19]\tvalid_0's auc: 0.815664\tvalid_0's l2: 0.0874433\n",
      "[20]\tvalid_0's auc: 0.816002\tvalid_0's l2: 0.0870131\n",
      "Did not meet early stopping. Best iteration is:\n",
      "[20]\tvalid_0's auc: 0.816002\tvalid_0's l2: 0.0870131\n"
     ]
    },
    {
     "name": "stderr",
     "output_type": "stream",
     "text": [
      "d:\\python3.5.2\\lib\\site-packages\\ipykernel_launcher.py:53: SettingWithCopyWarning: \n",
      "A value is trying to be set on a copy of a slice from a DataFrame.\n",
      "Try using .loc[row_indexer,col_indexer] = value instead\n",
      "\n",
      "See the caveats in the documentation: http://pandas.pydata.org/pandas-docs/stable/indexing.html#indexing-view-versus-copy\n",
      "d:\\python3.5.2\\lib\\site-packages\\ipykernel_launcher.py:55: SettingWithCopyWarning: \n",
      "A value is trying to be set on a copy of a slice from a DataFrame\n",
      "\n",
      "See the caveats in the documentation: http://pandas.pydata.org/pandas-docs/stable/indexing.html#indexing-view-versus-copy\n"
     ]
    }
   ],
   "source": [
    "import os\n",
    "import pylab\n",
    "os.chdir(\"D://Documents//WeChat Files//flyingnvxia//FileStorage//File//2019-06\")\n",
    "\n",
    "import json\n",
    "import lightgbm as lgb\n",
    "import pandas as pd\n",
    "from sklearn.metrics import mean_squared_error\n",
    "\n",
    "dataset1 = pd.read_csv('data/dataset1.csv')\n",
    "dataset1.label.replace(-1,0,inplace=True)\n",
    "dataset2 = pd.read_csv('data/dataset2.csv')\n",
    "dataset2.label.replace(-1,0,inplace=True)\n",
    "dataset3 = pd.read_csv('data/dataset3.csv')\n",
    "\n",
    "dataset1.drop_duplicates(inplace=True)\n",
    "dataset2.drop_duplicates(inplace=True)\n",
    "dataset3.drop_duplicates(inplace=True)\n",
    "\n",
    "dataset12 = pd.concat([dataset1,dataset2],axis=0)\n",
    "dataset1_y = dataset1.label\n",
    "dataset1_x = dataset1.drop(['label','day_gap_before','day_gap_after'],axis=1)  \n",
    "dataset2_y = dataset2.label\n",
    "dataset2_x = dataset2.drop(['label','day_gap_before','day_gap_after'],axis=1)\n",
    "dataset12_y = dataset12.label\n",
    "dataset12_x = dataset12.drop(['label','day_gap_before','day_gap_after'],axis=1)\n",
    "dataset3_preds = dataset3[['user_id','coupon_id','date_received']]\n",
    "dataset3_x = dataset3.drop(['user_id','coupon_id','date_received','day_gap_before','day_gap_after'],axis=1)\n",
    "params = {\n",
    "    'task': 'train',\n",
    "    'boosting_type': 'gbdt',\n",
    "    'objective': 'regression',\n",
    "    'metric': {'l2', 'auc'},\n",
    "    'num_leaves': 31,\n",
    "    'learning_rate': 0.05,\n",
    "    'feature_fraction': 0.9,\n",
    "    'bagging_fraction': 0.8,\n",
    "    'bagging_freq': 5,\n",
    "    'verbose': 0\n",
    "}\n",
    "lgb_train=lgb.Dataset(dataset12_x,dataset12_y)\n",
    "lgb_eval=lgb.Dataset(dataset12_x,dataset12_y,reference=lgb_train)\n",
    "model=lgb.train(params,\n",
    "                lgb_train,\n",
    "                num_boost_round=20,\n",
    "                valid_sets=lgb_eval,\n",
    "                early_stopping_rounds=5)\n",
    "\n",
    "#dataset3_x=scalar.fit_transform(dataset3_x)\n",
    "\n",
    "temp=model.predict(dataset3_x,num_iteration=model.best_iteration)\n",
    "#print(str(temp))\n",
    "dataset3_preds['label']=temp\n",
    "#print(str(dataset3_preds.label))\n",
    "dataset3_preds.sort_values(by=['coupon_id','label'],inplace=True)\n",
    "dataset3_preds.to_csv(\"data/lightgbm_preds.csv\",index=None,header=None)\n",
    "\n",
    "\n"
   ]
  },
  {
   "cell_type": "code",
   "execution_count": null,
   "metadata": {},
   "outputs": [],
   "source": []
  }
 ],
 "metadata": {
  "kernelspec": {
   "display_name": "Python 3",
   "language": "python",
   "name": "python3"
  },
  "language_info": {
   "codemirror_mode": {
    "name": "ipython",
    "version": 3
   },
   "file_extension": ".py",
   "mimetype": "text/x-python",
   "name": "python",
   "nbconvert_exporter": "python",
   "pygments_lexer": "ipython3",
   "version": "3.5.2"
  }
 },
 "nbformat": 4,
 "nbformat_minor": 2
}
