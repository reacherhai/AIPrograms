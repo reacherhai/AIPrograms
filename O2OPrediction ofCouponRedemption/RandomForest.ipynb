{
 "cells": [
  {
   "cell_type": "code",
   "execution_count": 10,
   "metadata": {},
   "outputs": [
    {
     "name": "stderr",
     "output_type": "stream",
     "text": [
      "d:\\python3.5.2\\lib\\site-packages\\ipykernel_launcher.py:41: SettingWithCopyWarning: \n",
      "A value is trying to be set on a copy of a slice from a DataFrame.\n",
      "Try using .loc[row_indexer,col_indexer] = value instead\n",
      "\n",
      "See the caveats in the documentation: http://pandas.pydata.org/pandas-docs/stable/indexing.html#indexing-view-versus-copy\n",
      "d:\\python3.5.2\\lib\\site-packages\\ipykernel_launcher.py:43: SettingWithCopyWarning: \n",
      "A value is trying to be set on a copy of a slice from a DataFrame\n",
      "\n",
      "See the caveats in the documentation: http://pandas.pydata.org/pandas-docs/stable/indexing.html#indexing-view-versus-copy\n"
     ]
    },
    {
     "data": {
      "image/png": "[encoded data removed]",
      "text/plain": [
       "<Figure size 432x288 with 1 Axes>"
      ]
     },
     "metadata": {
      "needs_background": "light"
     },
     "output_type": "display_data"
    }
   ],
   "source": [
    "import os\n",
    "import pylab\n",
    "os.chdir(\"D://Documents//WeChat Files//flyingnvxia//FileStorage//File//2019-06\")\n",
    "\n",
    "import numpy\n",
    "import pandas as pd\n",
    "from sklearn.ensemble import RandomForestClassifier\n",
    "from sklearn.ensemble import RandomForestRegressor\n",
    "from sklearn import preprocessing\n",
    "\n",
    "dataset1 = pd.read_csv('data/dataset1.csv')\n",
    "dataset1.label.replace(-1,0,inplace=True)\n",
    "dataset2 = pd.read_csv('data/dataset2.csv')\n",
    "dataset2.label.replace(-1,0,inplace=True)\n",
    "dataset3 = pd.read_csv('data/dataset3.csv')\n",
    "\n",
    "dataset1.drop_duplicates(inplace=True)\n",
    "dataset2.drop_duplicates(inplace=True)\n",
    "dataset3.drop_duplicates(inplace=True)\n",
    "\n",
    "dataset12 = pd.concat([dataset1,dataset2],axis=0)\n",
    "scalar=preprocessing.StandardScaler()\n",
    "dataset1_y = dataset1.label\n",
    "dataset1_x = dataset1.drop(['label','day_gap_before','day_gap_after'],axis=1)  \n",
    "dataset2_y = dataset2.label\n",
    "dataset2_x = dataset2.drop(['label','day_gap_before','day_gap_after'],axis=1)\n",
    "dataset12_y = dataset12.label\n",
    "dataset12_x = dataset12.drop(['label','day_gap_before','day_gap_after'],axis=1)\n",
    "dataset3_preds = dataset3[['user_id','coupon_id','date_received']]\n",
    "dataset3_x = dataset3.drop(['user_id','coupon_id','date_received','day_gap_before','day_gap_after'],axis=1)\n",
    "features=scalar.fit_transform(dataset12_x)\n",
    "\n",
    "clf=RandomForestClassifier(n_estimators=100,oob_score=True)\n",
    "features=numpy.nan_to_num(features)\n",
    "#print(str(features))\n",
    "clf.fit(features,dataset12_y)\n",
    "dataset3_x=scalar.fit_transform(dataset3_x)\n",
    "dataset3_x=numpy.nan_to_num(dataset3_x)\n",
    "temp=clf.predict_proba(dataset3_x)[:,1]\n",
    "#print(str(temp))\n",
    "dataset3_preds['label']=temp\n",
    "#print(str(dataset3_preds.label))\n",
    "dataset3_preds.sort_values(by=['coupon_id','label'],inplace=True)\n",
    "dataset3_preds.to_csv(\"data/RandomForest_preds.csv\",index=None,header=None)\n",
    "\n",
    "\n"
   ]
  },
  {
   "cell_type": "code",
   "execution_count": null,
   "metadata": {},
   "outputs": [],
   "source": []
  },
  {
   "cell_type": "code",
   "execution_count": null,
   "metadata": {},
   "outputs": [],
   "source": []
  }
 ],
 "metadata": {
  "kernelspec": {
   "display_name": "Python 3",
   "language": "python",
   "name": "python3"
  },
  "language_info": {
   "codemirror_mode": {
    "name": "ipython",
    "version": 3
   },
   "file_extension": ".py",
   "mimetype": "text/x-python",
   "name": "python",
   "nbconvert_exporter": "python",
   "pygments_lexer": "ipython3",
   "version": "3.5.2"
  }
 },
 "nbformat": 4,
 "nbformat_minor": 2
}
